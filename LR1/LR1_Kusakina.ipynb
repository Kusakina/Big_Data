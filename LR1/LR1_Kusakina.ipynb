{
 "cells": [
  {
   "cell_type": "code",
   "execution_count": 1,
   "id": "4f0cc1fb-98a7-4715-863d-e64ef47f924c",
   "metadata": {},
   "outputs": [],
   "source": [
    "from pyspark import SparkContext, SparkConf \n",
    "from pyspark.sql import SparkSession\n",
    "import pyspark.sql as sql"
   ]
  },
  {
   "cell_type": "code",
   "execution_count": 9,
   "id": "d30dab42-4187-49d7-a84c-023e8e4b9402",
   "metadata": {},
   "outputs": [],
   "source": [
    "spark = SparkSession.builder.master('yarn').appName('LR1_Kusakina').getOrCreate()"
   ]
  },
  {
   "cell_type": "code",
   "execution_count": 10,
   "id": "28115ac1-c460-479d-ade9-1a764af5019c",
   "metadata": {},
   "outputs": [
    {
     "data": {
      "text/html": [
       "\n",
       "            <div>\n",
       "                <p><b>SparkSession - in-memory</b></p>\n",
       "                \n",
       "        <div>\n",
       "            <p><b>SparkContext</b></p>\n",
       "\n",
       "            <p><a href=\"http://n1.maapr.xyz:4041\">Spark UI</a></p>\n",
       "\n",
       "            <dl>\n",
       "              <dt>Version</dt>\n",
       "                <dd><code>v3.1.2.0-eep-800</code></dd>\n",
       "              <dt>Master</dt>\n",
       "                <dd><code>yarn</code></dd>\n",
       "              <dt>AppName</dt>\n",
       "                <dd><code>LR1_Kusakina</code></dd>\n",
       "            </dl>\n",
       "        </div>\n",
       "        \n",
       "            </div>\n",
       "        "
      ],
      "text/plain": [
       "<pyspark.sql.session.SparkSession at 0x7f48dc8a8d30>"
      ]
     },
     "execution_count": 10,
     "metadata": {},
     "output_type": "execute_result"
    }
   ],
   "source": [
    "spark"
   ]
  },
  {
   "cell_type": "code",
   "execution_count": 16,
   "id": "6bb4bc2d-1df8-4d20-a831-e869d93e320c",
   "metadata": {},
   "outputs": [
    {
     "name": "stdout",
     "output_type": "stream",
     "text": [
      "put: `station.csv/user/dashakys': No such file or directory\n"
     ]
    }
   ],
   "source": [
    "#!hadoop fs -put station.csv/user/dashakys"
   ]
  },
  {
   "cell_type": "code",
   "execution_count": 86,
   "id": "bdca66d7-05cd-42d2-9876-6db758dfa60e",
   "metadata": {},
   "outputs": [],
   "source": [
    "trip = spark.read\\\n",
    ".option(\"header\", True)\\\n",
    ".option(\"inferSchema\", True)\\\n",
    ".option(\"timestampFormat\", 'M/d/y H:m')\\\n",
    ".csv(\"trip.csv\")"
   ]
  },
  {
   "cell_type": "code",
   "execution_count": 87,
   "id": "9d85e51e-54c8-4dd2-b959-e897f571508a",
   "metadata": {},
   "outputs": [
    {
     "name": "stdout",
     "output_type": "stream",
     "text": [
      "root\n",
      " |-- id: integer (nullable = true)\n",
      " |-- duration: integer (nullable = true)\n",
      " |-- start_date: timestamp (nullable = true)\n",
      " |-- start_station_name: string (nullable = true)\n",
      " |-- start_station_id: integer (nullable = true)\n",
      " |-- end_date: timestamp (nullable = true)\n",
      " |-- end_station_name: string (nullable = true)\n",
      " |-- end_station_id: integer (nullable = true)\n",
      " |-- bike_id: integer (nullable = true)\n",
      " |-- subscription_type: string (nullable = true)\n",
      " |-- zip_code: string (nullable = true)\n",
      "\n"
     ]
    }
   ],
   "source": [
    "trip.printSchema()"
   ]
  },
  {
   "cell_type": "code",
   "execution_count": 20,
   "id": "97bd49ad-d97e-4a3f-8649-504f00bfe551",
   "metadata": {},
   "outputs": [],
   "source": [
    "station= spark.read\\\n",
    ".option(\"header\", True)\\\n",
    ".option(\"inferSchema\", True)\\\n",
    ".option(\"timestampFormat\", 'M/d/y')\\\n",
    ".csv(\"station.csv\")"
   ]
  },
  {
   "cell_type": "code",
   "execution_count": 21,
   "id": "09712b86-6ea4-422a-911b-62d4385635cb",
   "metadata": {},
   "outputs": [
    {
     "name": "stdout",
     "output_type": "stream",
     "text": [
      "root\n",
      " |-- id: integer (nullable = true)\n",
      " |-- name: string (nullable = true)\n",
      " |-- lat: double (nullable = true)\n",
      " |-- long: double (nullable = true)\n",
      " |-- dock_count: integer (nullable = true)\n",
      " |-- city: string (nullable = true)\n",
      " |-- installation_date: timestamp (nullable = true)\n",
      "\n"
     ]
    }
   ],
   "source": [
    "station.printSchema()"
   ]
  },
  {
   "cell_type": "markdown",
   "id": "dd3c2eb4-345d-4c86-95fc-4a4fc9914797",
   "metadata": {},
   "source": [
    "1. Найти велосипед с максимальным временем пробега."
   ]
  },
  {
   "cell_type": "markdown",
   "id": "a29ecd91-07bd-41db-afc2-0421bc54ab3e",
   "metadata": {},
   "source": [
    "Посчитала, что время пробега, как пробег у машины, складывается из суммы поездок, поэтому искала максимум по сумме времен пробега."
   ]
  },
  {
   "cell_type": "code",
   "execution_count": 171,
   "id": "5e19c0bf-c114-43c8-844f-301c872dea96",
   "metadata": {},
   "outputs": [
    {
     "name": "stdout",
     "output_type": "stream",
     "text": [
      "+-------+------------+\n",
      "|bike_id|Max_duration|\n",
      "+-------+------------+\n",
      "|    535|    36229902|\n",
      "+-------+------------+\n",
      "\n"
     ]
    }
   ],
   "source": [
    "from pyspark.sql.functions import col\n",
    "res = trip.groupBy(\"bike_id\").agg(sum(\"duration\").alias(\"Max_duration\"))\n",
    "max_ = res.select( max(\"Max_duration\")).collect()[0][\"max(Max_duration)\"]\n",
    "answer = res.filter(col(\"Max_duration\") == max_)\n",
    "answer.show()"
   ]
  },
  {
   "cell_type": "markdown",
   "id": "3e799a1a-4398-4dc3-8fd4-5155526c658c",
   "metadata": {},
   "source": [
    "2. Найти наибольшее геодезическое расстояние между станциями."
   ]
  },
  {
   "cell_type": "markdown",
   "id": "62a585c4-4a17-45ae-a22a-0006595a4b5c",
   "metadata": {},
   "source": [
    "Нашла формулу расчета в интернете, применила к данным долготы и широты."
   ]
  },
  {
   "cell_type": "code",
   "execution_count": 189,
   "id": "e141379f-dc34-4a6e-861a-83659ccfd27d",
   "metadata": {},
   "outputs": [],
   "source": [
    "from math import sin, cos, radians, asin,  sqrt\n",
    "R_of_earth = 6371.0 \n",
    "def calculate_distance(lat1, long1, lat2, long2):\n",
    "    lat1 = radians(lat1)\n",
    "    long1 = radians(long1)\n",
    "    lat2 = radians(lat2)\n",
    "    long2 = radians(long2)\n",
    "    \n",
    "    dlong = long2 - long1\n",
    "    dlat = lat2 - lat1\n",
    "\n",
    "    a = sin(dlat / 2)**2 + cos(lat1) * cos(lat2) * sin(dlong / 2)**2\n",
    "    S = 2 * asin(sqrt(a))\n",
    "\n",
    "    return R_of_earth * S"
   ]
  },
  {
   "cell_type": "code",
   "execution_count": 196,
   "id": "f0167532-bc66-45fb-8185-848ee0394a6d",
   "metadata": {},
   "outputs": [
    {
     "name": "stdout",
     "output_type": "stream",
     "text": [
      "Max distance =  69.92087595428183\n"
     ]
    }
   ],
   "source": [
    "station_2 = station.withColumn(\"lat_2\", col(\"lat\")).withColumn(\"long_2\", col(\"long\")).drop(\"lat\").drop(\"long\")\n",
    "station_joined = station.crossJoin(station_2)\n",
    "#station_joined.show()\n",
    "calculate_distance_udf = udf(calculate_distance, DoubleType())\n",
    "station_joined_distance = station_joined.withColumn(\"distance\",calculate_distance_udf(col(\"lat\"),col(\"long\"),col(\"lat_2\"),col(\"long_2\")))\n",
    "answer = station_joined_distance.orderBy(col(\"distance\").desc()).first()[\"distance\"]\n",
    "print(\"Max distance = \", answer)"
   ]
  },
  {
   "cell_type": "markdown",
   "id": "3b3ef8f3-8128-46a7-afa7-c343ce9c9c09",
   "metadata": {},
   "source": [
    "3. Найти путь велосипеда с максимальным временем пробега через станции."
   ]
  },
  {
   "cell_type": "code",
   "execution_count": 248,
   "id": "f6cc2f36-3c88-421d-9874-beb328dd4a80",
   "metadata": {},
   "outputs": [
    {
     "name": "stdout",
     "output_type": "stream",
     "text": [
      "+-------+--------------------+--------------------+--------+\n",
      "|bike_id|  start_station_name|    end_station_name|duration|\n",
      "+-------+--------------------+--------------------+--------+\n",
      "|    535|South Van Ness at...|       2nd at Folsom|17270400|\n",
      "|    535|South Van Ness at...|       2nd at Folsom|17270400|\n",
      "|    535|  Powell Street BART|Civic Center BART...|   87638|\n",
      "|    535|San Francisco Cal...|   Steuart at Market|   33659|\n",
      "|    535|San Francisco Cal...|   Steuart at Market|   33659|\n",
      "|    535|      Market at 10th|San Francisco Cal...|   25909|\n",
      "|    535|       2nd at Folsom|Mechanics Plaza (...|   25179|\n",
      "|    535|Powell at Post (U...|Powell at Post (U...|   24920|\n",
      "|    535|   Market at Sansome|   Market at Sansome|   22787|\n",
      "|    535|Broadway St at Ba...|Harry Bridges Pla...|   22363|\n",
      "|    535|Broadway St at Ba...|Harry Bridges Pla...|   22363|\n",
      "|    535|Grant Avenue at C...|Grant Avenue at C...|   21153|\n",
      "|    535|Grant Avenue at C...|Grant Avenue at C...|   21153|\n",
      "|    535|     Post at Kearney|     Post at Kearney|   18983|\n",
      "|    535|       5th at Howard|       5th at Howard|   16936|\n",
      "|    535|Embarcadero at Sa...|Harry Bridges Pla...|   16589|\n",
      "|    535|Embarcadero at Sa...|Harry Bridges Pla...|   16589|\n",
      "|    535|Embarcadero at Sa...|Embarcadero at Va...|   15606|\n",
      "|    535|Civic Center BART...|      Market at 10th|   14746|\n",
      "|    535|Broadway St at Ba...|Embarcadero at Sa...|   14335|\n",
      "+-------+--------------------+--------------------+--------+\n",
      "only showing top 20 rows\n",
      "\n",
      "Путь максимальной длины велосипеда с номером  535 начался в  South Van Ness at Market и закончился в  2nd at Folsom\n"
     ]
    }
   ],
   "source": [
    "res = trip.groupBy(\"bike_id\").agg(max(\"duration\").alias(\"Max_duration\"))\n",
    "max_ = res.select( max(\"Max_duration\")).collect()[0][\"max(Max_duration)\"]\n",
    "ans = res.filter(col(\"Max_duration\") == max_).collect()[0][\"bike_id\"]\n",
    "answer = trip.select(\"bike_id\", \"start_station_name\",\"end_station_name\", \"duration\").orderBy(col(\"duration\").desc()).filter(col(\"bike_id\")==ans)\n",
    "answer.show()\n",
    "print(\"Путь максимальной длины велосипеда с номером \", ans, \"начался в \",answer.collect()[0][\"start_station_name\"], \"и закончился в \", answer.collect()[0][\"end_station_name\"])"
   ]
  },
  {
   "cell_type": "markdown",
   "id": "aec1520c-e613-4cfe-8ef4-efacb3a4a240",
   "metadata": {},
   "source": [
    "4. Найти количество велосипедов в системе."
   ]
  },
  {
   "cell_type": "code",
   "execution_count": 198,
   "id": "16a2e169-17a5-48f4-b19e-da505a74097d",
   "metadata": {},
   "outputs": [
    {
     "name": "stdout",
     "output_type": "stream",
     "text": [
      "700\n"
     ]
    }
   ],
   "source": [
    "print (trip.select(\"bike_id\").distinct().count())"
   ]
  },
  {
   "cell_type": "markdown",
   "id": "5eb8a436-9cf2-4070-adbc-435007722e79",
   "metadata": {},
   "source": [
    "5. Найти пользователей потративших на поездки более 3 часов."
   ]
  },
  {
   "cell_type": "markdown",
   "id": "00baa873-417a-4d93-b361-9a6b6cbb2ef4",
   "metadata": {},
   "source": [
    "Аналогично с заданием 1, считала, что пользователи потратили на поездки суммарно более 3 часов."
   ]
  },
  {
   "cell_type": "code",
   "execution_count": 231,
   "id": "83b267b1-6b60-4f59-800e-5e0a5500da55",
   "metadata": {},
   "outputs": [
    {
     "name": "stdout",
     "output_type": "stream",
     "text": [
      "+--------+-----------------+------------+\n",
      "|zip_code|subscription_type|Sum_duration|\n",
      "+--------+-----------------+------------+\n",
      "|   95125|       Subscriber|      847657|\n",
      "|   94619|       Subscriber|      495300|\n",
      "|   67202|         Customer|       10844|\n",
      "|   80220|         Customer|      106868|\n",
      "|   92869|         Customer|       16332|\n",
      "|   30307|         Customer|       47337|\n",
      "|   94502|         Customer|       99790|\n",
      "|   95008|         Customer|     1281308|\n",
      "|      55|         Customer|     1311638|\n",
      "|   50324|         Customer|       11700|\n",
      "|   22000|         Customer|       18586|\n",
      "|   80219|         Customer|       23142|\n",
      "|   13000|         Customer|       64020|\n",
      "|      99|         Customer|       11818|\n",
      "|    2465|         Customer|       24808|\n",
      "|   49518|         Customer|       33839|\n",
      "|   29464|         Customer|      104615|\n",
      "|    3141|         Customer|       14423|\n",
      "|   94035|         Customer|      165289|\n",
      "|   94010|       Subscriber|     5459413|\n",
      "+--------+-----------------+------------+\n",
      "only showing top 20 rows\n",
      "\n",
      "4565\n"
     ]
    }
   ],
   "source": [
    "answer = trip.groupBy(\"zip_code\", \"subscription_type\").agg(sum(\"duration\").alias(\"Sum_duration\")).filter(col(\"Sum_duration\") > 3 * 60 * 60 )\n",
    "answer.show()\n",
    "print (answer.count())"
   ]
  }
 ],
 "metadata": {
  "kernelspec": {
   "display_name": "Python 3",
   "language": "python",
   "name": "python3"
  },
  "language_info": {
   "codemirror_mode": {
    "name": "ipython",
    "version": 3
   },
   "file_extension": ".py",
   "mimetype": "text/x-python",
   "name": "python",
   "nbconvert_exporter": "python",
   "pygments_lexer": "ipython3",
   "version": "3.9.5"
  }
 },
 "nbformat": 4,
 "nbformat_minor": 5
}
