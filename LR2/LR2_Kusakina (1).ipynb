{
 "cells": [
  {
   "cell_type": "code",
   "execution_count": 2,
   "id": "4450a288-652c-4ac7-8630-84ff047b0d21",
   "metadata": {},
   "outputs": [],
   "source": [
    "from pyspark import SparkContext, SparkConf \n",
    "from pyspark.sql import SparkSession\n",
    "import pyspark.sql as sql"
   ]
  },
  {
   "cell_type": "code",
   "execution_count": 3,
   "id": "141a862c-fd2c-40b7-877f-0d7fde082b3d",
   "metadata": {},
   "outputs": [],
   "source": [
    "spark = SparkSession \\\n",
    "    .builder \\\n",
    "    .appName(\"Kusakina_LR2\") \\\n",
    "    .config(\"spark.jars.packages\", \"com.databricks:spark-xml_2.12:0.13.0\") \\\n",
    "    .getOrCreate()"
   ]
  },
  {
   "cell_type": "code",
   "execution_count": 4,
   "id": "e71ef4e3-b34f-4b62-a69a-b8d61c84fcc8",
   "metadata": {},
   "outputs": [
    {
     "data": {
      "text/html": [
       "\n",
       "            <div>\n",
       "                <p><b>SparkSession - in-memory</b></p>\n",
       "                \n",
       "        <div>\n",
       "            <p><b>SparkContext</b></p>\n",
       "\n",
       "            <p><a href=\"http://n1.maapr.xyz:4041\">Spark UI</a></p>\n",
       "\n",
       "            <dl>\n",
       "              <dt>Version</dt>\n",
       "                <dd><code>v3.1.2.0-eep-800</code></dd>\n",
       "              <dt>Master</dt>\n",
       "                <dd><code>yarn</code></dd>\n",
       "              <dt>AppName</dt>\n",
       "                <dd><code>Kusakina_LR2</code></dd>\n",
       "            </dl>\n",
       "        </div>\n",
       "        \n",
       "            </div>\n",
       "        "
      ],
      "text/plain": [
       "<pyspark.sql.session.SparkSession at 0x7f54c04a15e0>"
      ]
     },
     "execution_count": 4,
     "metadata": {},
     "output_type": "execute_result"
    }
   ],
   "source": [
    "spark"
   ]
  },
  {
   "cell_type": "code",
   "execution_count": 5,
   "id": "1a9651cf-6893-416e-8e30-5d9701d911c0",
   "metadata": {},
   "outputs": [],
   "source": [
    "posts_sample = spark.read.format('xml')\\\n",
    ".option('rootTag', 'posts')\\\n",
    ".option('rowTag', 'row')\\\n",
    ".load(\"posts_sample.xml\")"
   ]
  },
  {
   "cell_type": "code",
   "execution_count": 6,
   "id": "a173d2a3-dcf4-4e42-a799-239a9beab056",
   "metadata": {},
   "outputs": [
    {
     "name": "stdout",
     "output_type": "stream",
     "text": [
      "root\n",
      " |-- _AcceptedAnswerId: long (nullable = true)\n",
      " |-- _AnswerCount: long (nullable = true)\n",
      " |-- _Body: string (nullable = true)\n",
      " |-- _ClosedDate: timestamp (nullable = true)\n",
      " |-- _CommentCount: long (nullable = true)\n",
      " |-- _CommunityOwnedDate: timestamp (nullable = true)\n",
      " |-- _CreationDate: timestamp (nullable = true)\n",
      " |-- _FavoriteCount: long (nullable = true)\n",
      " |-- _Id: long (nullable = true)\n",
      " |-- _LastActivityDate: timestamp (nullable = true)\n",
      " |-- _LastEditDate: timestamp (nullable = true)\n",
      " |-- _LastEditorDisplayName: string (nullable = true)\n",
      " |-- _LastEditorUserId: long (nullable = true)\n",
      " |-- _OwnerDisplayName: string (nullable = true)\n",
      " |-- _OwnerUserId: long (nullable = true)\n",
      " |-- _ParentId: long (nullable = true)\n",
      " |-- _PostTypeId: long (nullable = true)\n",
      " |-- _Score: long (nullable = true)\n",
      " |-- _Tags: string (nullable = true)\n",
      " |-- _Title: string (nullable = true)\n",
      " |-- _ViewCount: long (nullable = true)\n",
      "\n"
     ]
    }
   ],
   "source": [
    "posts_sample.printSchema()"
   ]
  },
  {
   "cell_type": "code",
   "execution_count": 49,
   "id": "881825c1-e89c-448d-bff3-3eae23d72f16",
   "metadata": {},
   "outputs": [
    {
     "name": "stdout",
     "output_type": "stream",
     "text": [
      "+--------------------+--------------------+----------+--------------------+\n",
      "|       _CreationDate|   _LastActivityDate|_ViewCount|               _Tags|\n",
      "+--------------------+--------------------+----------+--------------------+\n",
      "|2008-08-01 02:42:...|2019-07-19 05:39:...|     42817|<c#><floating-poi...|\n",
      "|2008-08-01 03:08:...|2019-07-19 05:43:...|     18214|<html><css><inter...|\n",
      "|2008-08-01 04:40:...|2019-06-26 19:25:...|    555183|<c#><.net><datetime>|\n",
      "|2008-08-01 04:55:...|2019-05-26 06:31:...|    149445|<c#><datetime><ti...|\n",
      "|2008-08-01 05:42:...|2019-05-14 20:02:...|    176405|<html><browser><t...|\n",
      "|2008-08-01 05:59:...|2018-09-19 07:49:...|    123231|        <.net><math>|\n",
      "|2010-09-22 14:33:...|2017-02-26 22:11:...|      3650|<c++><character-e...|\n",
      "|2010-09-23 10:47:...|2010-11-23 16:14:...|       617|<sharepoint><info...|\n",
      "|2010-09-23 12:53:...|2012-09-11 18:09:...|      1315|<iphone><app-stor...|\n",
      "|2010-09-23 15:47:...|2012-04-17 02:54:...|       973|<symfony1><schema...|\n",
      "|2010-09-23 16:13:...|2010-09-23 17:52:...|       132|              <java>|\n",
      "|2010-09-24 12:40:...|2011-01-20 14:02:...|       419|<visual-studio-20...|\n",
      "|2010-09-24 20:34:...|2010-09-26 11:54:...|       869|<cakephp><file-up...|\n",
      "|2010-09-25 21:42:...|2012-05-17 17:22:...|      1303|<git><cygwin><putty>|\n",
      "|2010-09-26 16:58:...|2010-09-26 19:33:...|       748|  <drupal><drupal-6>|\n",
      "|2010-09-26 21:07:...|2010-09-27 18:34:...|      1258|<php><wordpress><...|\n",
      "|2010-09-27 09:20:...|2014-09-09 13:50:...|     14972|<c#><winforms><da...|\n",
      "|2010-09-27 13:48:...|2012-03-02 06:31:...|       274|<c#><asp.net><exc...|\n",
      "|2010-09-28 12:56:...|2010-12-24 12:50:...|       804|    <sql><xml><blob>|\n",
      "|2010-09-28 22:48:...|2017-03-23 23:03:...|      6019|<.htaccess><codei...|\n",
      "+--------------------+--------------------+----------+--------------------+\n",
      "only showing top 20 rows\n",
      "\n"
     ]
    }
   ],
   "source": [
    "from pyspark.sql.functions import col\n",
    "table = posts_sample.select(\"_CreationDate\", \"_LastActivityDate\", \"_ViewCount\", \"_Tags\")\n",
    "#table.show()\n",
    "not_null = table.filter(table._Tags.isNotNull())\n",
    "not_null.show()\n",
    "#проверка на null по количеству просмотров\n",
    "#not_null.filter(not_null._ViewCount.isNull()).show()"
   ]
  },
  {
   "cell_type": "code",
   "execution_count": 83,
   "id": "865d5a4a-fede-4a14-9abd-1765b81e0fa7",
   "metadata": {},
   "outputs": [],
   "source": [
    "\n",
    "def mass_tag(stringa):\n",
    "    stringa = stringa[1:-1]\n",
    "    a = stringa.split(\"><\")\n",
    "    print(a)\n",
    "    return a"
   ]
  },
  {
   "cell_type": "code",
   "execution_count": 130,
   "id": "e5849932-2c5c-4de9-a55f-76cd3e314f01",
   "metadata": {},
   "outputs": [
    {
     "name": "stdout",
     "output_type": "stream",
     "text": [
      "+--------------------+--------------------+----------+--------------------+\n",
      "|       _CreationDate|   _LastActivityDate|_ViewCount|                Tags|\n",
      "+--------------------+--------------------+----------+--------------------+\n",
      "|2008-08-01 02:42:...|2019-07-19 05:39:...|     42817|[c#, floating-poi...|\n",
      "|2008-08-01 03:08:...|2019-07-19 05:43:...|     18214|[html, css, inter...|\n",
      "|2008-08-01 04:40:...|2019-06-26 19:25:...|    555183|[c#, .net, datetime]|\n",
      "|2008-08-01 04:55:...|2019-05-26 06:31:...|    149445|[c#, datetime, ti...|\n",
      "|2008-08-01 05:42:...|2019-05-14 20:02:...|    176405|[html, browser, t...|\n",
      "|2008-08-01 05:59:...|2018-09-19 07:49:...|    123231|        [.net, math]|\n",
      "|2010-09-22 14:33:...|2017-02-26 22:11:...|      3650|[c++, character-e...|\n",
      "|2010-09-23 10:47:...|2010-11-23 16:14:...|       617|[sharepoint, info...|\n",
      "|2010-09-23 12:53:...|2012-09-11 18:09:...|      1315|[iphone, app-stor...|\n",
      "|2010-09-23 15:47:...|2012-04-17 02:54:...|       973|[symfony1, schema...|\n",
      "|2010-09-23 16:13:...|2010-09-23 17:52:...|       132|              [java]|\n",
      "|2010-09-24 12:40:...|2011-01-20 14:02:...|       419|[visual-studio-20...|\n",
      "|2010-09-24 20:34:...|2010-09-26 11:54:...|       869|[cakephp, file-up...|\n",
      "|2010-09-25 21:42:...|2012-05-17 17:22:...|      1303|[git, cygwin, putty]|\n",
      "|2010-09-26 16:58:...|2010-09-26 19:33:...|       748|  [drupal, drupal-6]|\n",
      "|2010-09-26 21:07:...|2010-09-27 18:34:...|      1258|[php, wordpress, ...|\n",
      "|2010-09-27 09:20:...|2014-09-09 13:50:...|     14972|[c#, winforms, da...|\n",
      "|2010-09-27 13:48:...|2012-03-02 06:31:...|       274|[c#, asp.net, exc...|\n",
      "|2010-09-28 12:56:...|2010-12-24 12:50:...|       804|    [sql, xml, blob]|\n",
      "|2010-09-28 22:48:...|2017-03-23 23:03:...|      6019|[.htaccess, codei...|\n",
      "+--------------------+--------------------+----------+--------------------+\n",
      "only showing top 20 rows\n",
      "\n"
     ]
    }
   ],
   "source": [
    "from pyspark.sql.functions import udf\n",
    "from pyspark.sql.types import ArrayType, FloatType, StringType,ShortType, LongType\n",
    "mass_tag_udf = udf(mass_tag, ArrayType(StringType()))\n",
    "table2 = not_null.withColumn(\"Tags\", mass_tag_udf(col(\"_Tags\"))).drop(\"_Tags\")\n",
    "table2.show()                             "
   ]
  },
  {
   "cell_type": "code",
   "execution_count": 104,
   "id": "e68cf9bc-5395-422c-b90a-2df1b6b9e923",
   "metadata": {},
   "outputs": [
    {
     "name": "stdout",
     "output_type": "stream",
     "text": [
      "DataFrame[_CreationDate: timestamp, _LastActivityDate: timestamp, _ViewCount: bigint, Tags: array<string>]\n",
      "+--------------------+--------------------+----------+-------------------+\n",
      "|       _CreationDate|   _LastActivityDate|_ViewCount|                Tag|\n",
      "+--------------------+--------------------+----------+-------------------+\n",
      "|2008-08-01 02:42:...|2019-07-19 05:39:...|     42817|                 c#|\n",
      "|2008-08-01 02:42:...|2019-07-19 05:39:...|     42817|     floating-point|\n",
      "|2008-08-01 02:42:...|2019-07-19 05:39:...|     42817|    type-conversion|\n",
      "|2008-08-01 02:42:...|2019-07-19 05:39:...|     42817|             double|\n",
      "|2008-08-01 02:42:...|2019-07-19 05:39:...|     42817|            decimal|\n",
      "|2008-08-01 03:08:...|2019-07-19 05:43:...|     18214|               html|\n",
      "|2008-08-01 03:08:...|2019-07-19 05:43:...|     18214|                css|\n",
      "|2008-08-01 03:08:...|2019-07-19 05:43:...|     18214|internet-explorer-7|\n",
      "|2008-08-01 04:40:...|2019-06-26 19:25:...|    555183|                 c#|\n",
      "|2008-08-01 04:40:...|2019-06-26 19:25:...|    555183|               .net|\n",
      "|2008-08-01 04:40:...|2019-06-26 19:25:...|    555183|           datetime|\n",
      "|2008-08-01 04:55:...|2019-05-26 06:31:...|    149445|                 c#|\n",
      "|2008-08-01 04:55:...|2019-05-26 06:31:...|    149445|           datetime|\n",
      "|2008-08-01 04:55:...|2019-05-26 06:31:...|    149445|               time|\n",
      "|2008-08-01 04:55:...|2019-05-26 06:31:...|    149445|           datediff|\n",
      "|2008-08-01 04:55:...|2019-05-26 06:31:...|    149445| relative-time-span|\n",
      "|2008-08-01 05:42:...|2019-05-14 20:02:...|    176405|               html|\n",
      "|2008-08-01 05:42:...|2019-05-14 20:02:...|    176405|            browser|\n",
      "|2008-08-01 05:42:...|2019-05-14 20:02:...|    176405|           timezone|\n",
      "|2008-08-01 05:42:...|2019-05-14 20:02:...|    176405|         user-agent|\n",
      "+--------------------+--------------------+----------+-------------------+\n",
      "only showing top 20 rows\n",
      "\n"
     ]
    }
   ],
   "source": [
    "from pyspark.sql.functions import explode\n",
    "print(table2)\n",
    "alone_tags = table2.select(table2._CreationDate, table2._LastActivityDate, table2._ViewCount, explode(table2.Tags)).withColumnRenamed(\"col\", \"Tag\") \n",
    "alone_tags.show()"
   ]
  },
  {
   "cell_type": "code",
   "execution_count": 116,
   "id": "bafcff38-9537-4e5d-9172-3aab138d798f",
   "metadata": {},
   "outputs": [
    {
     "name": "stdout",
     "output_type": "stream",
     "text": [
      "+------------+\n",
      "|        name|\n",
      "+------------+\n",
      "|     a# .net|\n",
      "|  a# (axiom)|\n",
      "|  a-0 system|\n",
      "|          a+|\n",
      "|         a++|\n",
      "|        abap|\n",
      "|         abc|\n",
      "|   abc algol|\n",
      "|       abset|\n",
      "|       absys|\n",
      "|         acc|\n",
      "|      accent|\n",
      "|    ace dasl|\n",
      "|        acl2|\n",
      "|     act-iii|\n",
      "|     action!|\n",
      "|actionscript|\n",
      "|         ada|\n",
      "|     adenine|\n",
      "|        agda|\n",
      "+------------+\n",
      "only showing top 20 rows\n",
      "\n",
      "+------------+\n",
      "|         Tag|\n",
      "+------------+\n",
      "|     a# .net|\n",
      "|  a# (axiom)|\n",
      "|  a-0 system|\n",
      "|          a+|\n",
      "|         a++|\n",
      "|        abap|\n",
      "|         abc|\n",
      "|   abc algol|\n",
      "|       abset|\n",
      "|       absys|\n",
      "|         acc|\n",
      "|      accent|\n",
      "|    ace dasl|\n",
      "|        acl2|\n",
      "|     act-iii|\n",
      "|     action!|\n",
      "|actionscript|\n",
      "|         ada|\n",
      "|     adenine|\n",
      "|        agda|\n",
      "+------------+\n",
      "only showing top 20 rows\n",
      "\n"
     ]
    }
   ],
   "source": [
    "from pyspark.sql.functions import lower\n",
    "\n",
    "languages = spark.read\\\n",
    ".option(\"header\", True)\\\n",
    ".option(\"inferSchema\", True)\\\n",
    ".csv(\"programming-languages.csv\")\n",
    "\n",
    "languages = languages.drop(\"wikipedia_url\").withColumn(\"name\",  lower(\"name\"))\n",
    "languages.show()\n",
    "languages = languages.withColumnRenamed(\"name\", \"Tag\") \n",
    "languages.show()"
   ]
  },
  {
   "cell_type": "code",
   "execution_count": 118,
   "id": "e9ffea00-a698-48e4-ac19-006953321d4a",
   "metadata": {},
   "outputs": [
    {
     "name": "stdout",
     "output_type": "stream",
     "text": [
      "+-----------+--------------------+--------------------+----------+\n",
      "|        Tag|       _CreationDate|   _LastActivityDate|_ViewCount|\n",
      "+-----------+--------------------+--------------------+----------+\n",
      "|       java|2010-09-23 16:13:...|2010-09-23 17:52:...|       132|\n",
      "|        php|2010-09-26 21:07:...|2010-09-27 18:34:...|      1258|\n",
      "|       ruby|2010-09-30 22:27:...|2015-05-18 02:06:...|      9649|\n",
      "|          c|2010-10-01 15:52:...|2010-10-01 16:16:...|      2384|\n",
      "|        php|2010-10-05 01:05:...|2015-08-02 03:36:...|      1987|\n",
      "|     python|2010-10-06 17:31:...|2010-10-07 14:36:...|      3321|\n",
      "| javascript|2010-10-08 00:53:...|2010-10-08 13:43:...|       128|\n",
      "|applescript|2010-10-08 03:56:...|2010-10-08 22:34:...|       477|\n",
      "|        php|2010-10-08 18:44:...|2010-10-12 21:48:...|      1748|\n",
      "|        php|2010-10-11 11:54:...|2010-11-13 01:22:...|       998|\n",
      "| javascript|2010-10-12 16:19:...|2013-11-14 15:31:...|      2095|\n",
      "|        sed|2010-10-12 19:44:...|2010-10-12 20:02:...|       447|\n",
      "|     python|2010-10-12 23:43:...|2015-07-20 15:47:...|      6558|\n",
      "|       java|2010-10-17 01:45:...|2015-02-02 15:50:...|       214|\n",
      "|       ruby|2010-10-17 01:45:...|2015-02-02 15:50:...|       214|\n",
      "|objective-c|2010-10-17 13:44:...|2013-04-30 00:07:...|       852|\n",
      "| javascript|2010-10-17 18:52:...|2010-10-17 19:50:...|       179|\n",
      "|          r|2010-10-18 04:04:...|2010-10-18 12:27:...|      6709|\n",
      "|        php|2010-10-19 11:49:...|2010-10-19 12:00:...|        78|\n",
      "| javascript|2010-10-20 06:01:...|2010-10-20 06:09:...|      1280|\n",
      "+-----------+--------------------+--------------------+----------+\n",
      "only showing top 20 rows\n",
      "\n"
     ]
    }
   ],
   "source": [
    "res = alone_tags.join(languages, on=[\"Tag\"], how = 'inner')\n",
    "res.show()"
   ]
  },
  {
   "cell_type": "code",
   "execution_count": 126,
   "id": "7db48c89-3537-45a7-a41f-768006cd8b4a",
   "metadata": {},
   "outputs": [],
   "source": [
    "def mass_years(stringa, stringa2):\n",
    "    stringa= str(stringa)\n",
    "    stringa2 = str(stringa2)\n",
    "    a = int(stringa.split(\"-\")[0])\n",
    "    b = int(stringa2.split(\"-\")[0])\n",
    "    mass = [i for i in range(a, b+1, 1)] \n",
    "    return mass"
   ]
  },
  {
   "cell_type": "code",
   "execution_count": 127,
   "id": "14a9afe5-8301-40a6-a1a5-a5414e744168",
   "metadata": {},
   "outputs": [
    {
     "name": "stdout",
     "output_type": "stream",
     "text": [
      "[2008, 2009, 2010, 2011, 2012, 2013, 2014, 2015, 2016, 2017, 2018, 2019]\n"
     ]
    }
   ],
   "source": [
    "print(mass_years(\"2008-08-01 05:42:\", \"2019-05-14 20:02:\"))"
   ]
  },
  {
   "cell_type": "code",
   "execution_count": 129,
   "id": "fe8e56e7-ea23-49ef-85df-1a6c998b7edc",
   "metadata": {},
   "outputs": [
    {
     "name": "stdout",
     "output_type": "stream",
     "text": [
      "+-----------+----------+--------------------+\n",
      "|        Tag|_ViewCount|               Years|\n",
      "+-----------+----------+--------------------+\n",
      "|       java|       132|              [2010]|\n",
      "|        php|      1258|              [2010]|\n",
      "|       ruby|      9649|[2010, 2011, 2012...|\n",
      "|          c|      2384|              [2010]|\n",
      "|        php|      1987|[2010, 2011, 2012...|\n",
      "|     python|      3321|              [2010]|\n",
      "| javascript|       128|              [2010]|\n",
      "|applescript|       477|              [2010]|\n",
      "|        php|      1748|              [2010]|\n",
      "|        php|       998|              [2010]|\n",
      "| javascript|      2095|[2010, 2011, 2012...|\n",
      "|        sed|       447|              [2010]|\n",
      "|     python|      6558|[2010, 2011, 2012...|\n",
      "|       java|       214|[2010, 2011, 2012...|\n",
      "|       ruby|       214|[2010, 2011, 2012...|\n",
      "|objective-c|       852|[2010, 2011, 2012...|\n",
      "| javascript|       179|              [2010]|\n",
      "|          r|      6709|              [2010]|\n",
      "|        php|        78|              [2010]|\n",
      "| javascript|      1280|              [2010]|\n",
      "+-----------+----------+--------------------+\n",
      "only showing top 20 rows\n",
      "\n"
     ]
    }
   ],
   "source": [
    "mass_years_udf = udf(mass_years, ArrayType(ShortType()))\n",
    "table3 = res.withColumn(\"Years\", mass_years_udf(col(\"_CreationDate\"), col(\"_LastActivityDate\"))).drop(\"_LastActivityDate\").drop(\"_CreationDate\")\n",
    "table3.show()"
   ]
  },
  {
   "cell_type": "code",
   "execution_count": 136,
   "id": "c97db499-97b3-4194-9f41-c65f3de3e389",
   "metadata": {},
   "outputs": [],
   "source": [
    "def count_views(views, years):\n",
    "    return int(views/len(years))"
   ]
  },
  {
   "cell_type": "code",
   "execution_count": 145,
   "id": "ce207430-f2bc-42a6-90f2-3025b7b9d864",
   "metadata": {},
   "outputs": [
    {
     "name": "stdout",
     "output_type": "stream",
     "text": [
      "+-----------+----------+--------------------+----+\n",
      "|        Tag|_ViewCount|               Years|View|\n",
      "+-----------+----------+--------------------+----+\n",
      "|       java|       132|              [2010]| 132|\n",
      "|        php|      1258|              [2010]|1258|\n",
      "|       ruby|      9649|[2010, 2011, 2012...|1608|\n",
      "|          c|      2384|              [2010]|2384|\n",
      "|        php|      1987|[2010, 2011, 2012...| 331|\n",
      "|     python|      3321|              [2010]|3321|\n",
      "| javascript|       128|              [2010]| 128|\n",
      "|applescript|       477|              [2010]| 477|\n",
      "|        php|      1748|              [2010]|1748|\n",
      "|        php|       998|              [2010]| 998|\n",
      "| javascript|      2095|[2010, 2011, 2012...| 523|\n",
      "|        sed|       447|              [2010]| 447|\n",
      "|     python|      6558|[2010, 2011, 2012...|1093|\n",
      "|       java|       214|[2010, 2011, 2012...|  35|\n",
      "|       ruby|       214|[2010, 2011, 2012...|  35|\n",
      "|objective-c|       852|[2010, 2011, 2012...| 213|\n",
      "| javascript|       179|              [2010]| 179|\n",
      "|          r|      6709|              [2010]|6709|\n",
      "|        php|        78|              [2010]|  78|\n",
      "| javascript|      1280|              [2010]|1280|\n",
      "+-----------+----------+--------------------+----+\n",
      "only showing top 20 rows\n",
      "\n"
     ]
    }
   ],
   "source": [
    "count_views_udf = udf(count_views, LongType())\n",
    "res2 = table3.withColumn(\"View\", count_views_udf(col(\"_ViewCount\"), col(\"Years\")))\n",
    "res2.show()"
   ]
  },
  {
   "cell_type": "code",
   "execution_count": 146,
   "id": "c5f135b8-2f6b-4702-a621-4c12edb876a1",
   "metadata": {},
   "outputs": [
    {
     "name": "stdout",
     "output_type": "stream",
     "text": [
      "+-----------+----+----+\n",
      "|        Tag|View|Year|\n",
      "+-----------+----+----+\n",
      "|       java| 132|2010|\n",
      "|        php|1258|2010|\n",
      "|       ruby|1608|2010|\n",
      "|       ruby|1608|2011|\n",
      "|       ruby|1608|2012|\n",
      "|       ruby|1608|2013|\n",
      "|       ruby|1608|2014|\n",
      "|       ruby|1608|2015|\n",
      "|          c|2384|2010|\n",
      "|        php| 331|2010|\n",
      "|        php| 331|2011|\n",
      "|        php| 331|2012|\n",
      "|        php| 331|2013|\n",
      "|        php| 331|2014|\n",
      "|        php| 331|2015|\n",
      "|     python|3321|2010|\n",
      "| javascript| 128|2010|\n",
      "|applescript| 477|2010|\n",
      "|        php|1748|2010|\n",
      "|        php| 998|2010|\n",
      "+-----------+----+----+\n",
      "only showing top 20 rows\n",
      "\n",
      "DataFrame[Tag: string, View: bigint, Year: smallint]\n"
     ]
    }
   ],
   "source": [
    "res3 = res2.select(res2.Tag, res2.View, explode(res2.Years)).withColumnRenamed(\"col\", \"Year\") \n",
    "res3.show()\n",
    "print(res3)"
   ]
  },
  {
   "cell_type": "code",
   "execution_count": 157,
   "id": "c17efc37-67b8-4272-96f0-b976bede5158",
   "metadata": {},
   "outputs": [
    {
     "name": "stdout",
     "output_type": "stream",
     "text": [
      "DataFrame[Year: smallint, Tag: string, sum(View): bigint]\n",
      "+----+-----------+---------+\n",
      "|Year|        Tag|sum(View)|\n",
      "+----+-----------+---------+\n",
      "|2019|     python|   373745|\n",
      "|2019|        php|   168545|\n",
      "|2019| javascript|   142609|\n",
      "|2019|       java|    95995|\n",
      "|2019|objective-c|    58395|\n",
      "|2019|          r|     9687|\n",
      "|2019| typescript|     8664|\n",
      "|2019|         io|     6156|\n",
      "|2019|       dart|     5625|\n",
      "|2019|     kotlin|     5124|\n",
      "|2019|       ruby|     4701|\n",
      "|2019|       bash|     4137|\n",
      "|2019|          c|     2691|\n",
      "|2019|         go|     2559|\n",
      "|2019| powershell|     2544|\n",
      "|2019|       rust|     2271|\n",
      "|2019|     scheme|     1859|\n",
      "|2019|      scala|     1751|\n",
      "|2019|    haskell|     1406|\n",
      "|2019|     delphi|     1333|\n",
      "+----+-----------+---------+\n",
      "only showing top 20 rows\n",
      "\n"
     ]
    }
   ],
   "source": [
    "final_res = res3.groupBy(\"Year\", \"Tag\").agg({\"View\":\"sum\"})\n",
    "print(final_res)\n",
    "sorted_res= final_res.orderBy(col(\"Year\").desc(), col(\"sum(View)\").desc())\n",
    "sorted_res.show()"
   ]
  },
  {
   "cell_type": "code",
   "execution_count": 160,
   "id": "38d126be-17be-47cc-ad54-7695f0fbe9ca",
   "metadata": {},
   "outputs": [
    {
     "name": "stdout",
     "output_type": "stream",
     "text": [
      "+----+-----------+--------+\n",
      "|Year|        Tag|Sum_View|\n",
      "+----+-----------+--------+\n",
      "|2010|     python|  341402|\n",
      "|2010|        php|  179828|\n",
      "|2010|       java|  155905|\n",
      "|2010| javascript|  121002|\n",
      "|2010|         id|   61763|\n",
      "|2010|     matlab|   58030|\n",
      "|2010|objective-c|   53371|\n",
      "|2010|       ruby|   37114|\n",
      "|2010|          c|   35026|\n",
      "|2010|     delphi|   12908|\n",
      "+----+-----------+--------+\n",
      "\n",
      "+----+-----------+--------+\n",
      "|Year|        Tag|Sum_View|\n",
      "+----+-----------+--------+\n",
      "|2011|     python|  426149|\n",
      "|2011|       java|  281158|\n",
      "|2011| javascript|  259676|\n",
      "|2011|        php|  241105|\n",
      "|2011|          c|  113003|\n",
      "|2011|objective-c|   84264|\n",
      "|2011|         id|   61763|\n",
      "|2011|       ruby|   42712|\n",
      "|2011|       bash|   20492|\n",
      "|2011|     matlab|   15709|\n",
      "+----+-----------+--------+\n",
      "\n",
      "+----+-----------+--------+\n",
      "|Year|        Tag|Sum_View|\n",
      "+----+-----------+--------+\n",
      "|2012|     python|  564428|\n",
      "|2012|        php|  498672|\n",
      "|2012| javascript|  475611|\n",
      "|2012|       java|  407204|\n",
      "|2012|objective-c|  102300|\n",
      "|2012|          c|   78025|\n",
      "|2012|       ruby|   66545|\n",
      "|2012|         id|   61763|\n",
      "|2012|       bash|   26068|\n",
      "|2012|     matlab|   19005|\n",
      "+----+-----------+--------+\n",
      "\n",
      "+----+-----------+--------+\n",
      "|Year|        Tag|Sum_View|\n",
      "+----+-----------+--------+\n",
      "|2013| javascript|  684540|\n",
      "|2013|       java|  643641|\n",
      "|2013|     python|  446988|\n",
      "|2013|        php|  426669|\n",
      "|2013|objective-c|  143849|\n",
      "|2013|       ruby|   73152|\n",
      "|2013|          c|   72542|\n",
      "|2013|         id|   61763|\n",
      "|2013|          r|   35989|\n",
      "|2013| powershell|   33279|\n",
      "+----+-----------+--------+\n",
      "\n",
      "+----+-----------+--------+\n",
      "|Year|        Tag|Sum_View|\n",
      "+----+-----------+--------+\n",
      "|2014|       java|  607172|\n",
      "|2014| javascript|  521284|\n",
      "|2014|     python|  449416|\n",
      "|2014|        php|  419678|\n",
      "|2014|objective-c|  142123|\n",
      "|2014|          c|  122878|\n",
      "|2014|         id|   61763|\n",
      "|2014|       ruby|   58381|\n",
      "|2014|          r|   50558|\n",
      "|2014|      scala|   47182|\n",
      "+----+-----------+--------+\n",
      "\n",
      "+----+-----------+--------+\n",
      "|Year|        Tag|Sum_View|\n",
      "+----+-----------+--------+\n",
      "|2015| javascript|  552007|\n",
      "|2015|       java|  531308|\n",
      "|2015|     python|  505645|\n",
      "|2015|        php|  391006|\n",
      "|2015|objective-c|   99589|\n",
      "|2015|          c|   84014|\n",
      "|2015|         id|   61763|\n",
      "|2015|      scala|   41050|\n",
      "|2015|          r|   40640|\n",
      "|2015|       ruby|   39982|\n",
      "+----+-----------+--------+\n",
      "\n",
      "+----+-----------+--------+\n",
      "|Year|        Tag|Sum_View|\n",
      "+----+-----------+--------+\n",
      "|2016|     python|  565642|\n",
      "|2016|       java|  481583|\n",
      "|2016| javascript|  463493|\n",
      "|2016|        php|  305703|\n",
      "|2016|objective-c|   79338|\n",
      "|2016| powershell|   65669|\n",
      "|2016|          r|   63662|\n",
      "|2016|         id|   61763|\n",
      "|2016|          c|   48302|\n",
      "|2016|       ruby|   34138|\n",
      "+----+-----------+--------+\n",
      "\n",
      "+----+-----------+--------+\n",
      "|Year|        Tag|Sum_View|\n",
      "+----+-----------+--------+\n",
      "|2017|     python|  540040|\n",
      "|2017|       java|  442166|\n",
      "|2017| javascript|  399297|\n",
      "|2017|        php|  282330|\n",
      "|2017|objective-c|   67993|\n",
      "|2017|         id|   61763|\n",
      "|2017|          r|   40578|\n",
      "|2017|          c|   32603|\n",
      "|2017| powershell|   32565|\n",
      "|2017|       bash|   29409|\n",
      "+----+-----------+--------+\n",
      "\n",
      "+----+-----------+--------+\n",
      "|Year|        Tag|Sum_View|\n",
      "+----+-----------+--------+\n",
      "|2018|     python|  505691|\n",
      "|2018| javascript|  306928|\n",
      "|2018|       java|  249139|\n",
      "|2018|        php|  230265|\n",
      "|2018|objective-c|   64620|\n",
      "|2018|         id|   61790|\n",
      "|2018| typescript|   38312|\n",
      "|2018| powershell|   33671|\n",
      "|2018|          r|   24661|\n",
      "|2018|     kotlin|   21122|\n",
      "+----+-----------+--------+\n",
      "\n",
      "+----+-----------+--------+\n",
      "|Year|        Tag|Sum_View|\n",
      "+----+-----------+--------+\n",
      "|2019|     python|  373745|\n",
      "|2019|        php|  168545|\n",
      "|2019| javascript|  142609|\n",
      "|2019|       java|   95995|\n",
      "|2019|objective-c|   58395|\n",
      "|2019|          r|    9687|\n",
      "|2019| typescript|    8664|\n",
      "|2019|         io|    6156|\n",
      "|2019|       dart|    5625|\n",
      "|2019|     kotlin|    5124|\n",
      "+----+-----------+--------+\n",
      "\n",
      "+----+---+--------+\n",
      "|Year|Tag|Sum_View|\n",
      "+----+---+--------+\n",
      "+----+---+--------+\n",
      "\n"
     ]
    }
   ],
   "source": [
    "sorted_res=sorted_res.withColumnRenamed(\"sum(View)\", \"Sum_View\") \n",
    "mass = [i for i in range(2010, 2020+1, 1)] \n",
    "for year in mass:\n",
    "    year_res = sorted_res.filter(col(\"Year\") == year).limit(10)\n",
    "    year_res.show()\n",
    "    tr_year = str(year)\n",
    "    year_res.write.mode('overwrite').parquet(\"popular_languages_per_year_\"+tr_year)\n",
    "    "
   ]
  },
  {
   "cell_type": "code",
   "execution_count": null,
   "id": "dccde0a1-24ef-4880-a953-b70e26b99d63",
   "metadata": {},
   "outputs": [],
   "source": []
  }
 ],
 "metadata": {
  "kernelspec": {
   "display_name": "Python 3",
   "language": "python",
   "name": "python3"
  },
  "language_info": {
   "codemirror_mode": {
    "name": "ipython",
    "version": 3
   },
   "file_extension": ".py",
   "mimetype": "text/x-python",
   "name": "python",
   "nbconvert_exporter": "python",
   "pygments_lexer": "ipython3",
   "version": "3.9.5"
  }
 },
 "nbformat": 4,
 "nbformat_minor": 5
}
